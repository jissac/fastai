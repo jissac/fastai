{
 "cells": [
  {
   "cell_type": "markdown",
   "metadata": {},
   "source": [
    "# Lesson 3: Model Interpretability"
   ]
  },
  {
   "cell_type": "code",
   "execution_count": 1,
   "metadata": {},
   "outputs": [],
   "source": [
    "%load_ext autoreload\n",
    "%autoreload 2\n",
    "\n",
    "%matplotlib inline\n",
    "import matplotlib.pyplot as plt\n",
    "import math"
   ]
  },
  {
   "cell_type": "code",
   "execution_count": 2,
   "metadata": {},
   "outputs": [
    {
     "name": "stdout",
     "output_type": "stream",
     "text": [
      "<module 'fastai' from '/Users/JI/Documents/Github/fastai/old/fastai/__init__.py'>\n"
     ]
    }
   ],
   "source": [
    "import sys\n",
    "import os\n",
    "sys.path.insert(0, \"/Users/JI/Documents/Github/fastai/old/\")\n",
    "# print(sys.path)\n",
    "import fastai\n",
    "print(sys.modules['fastai'])"
   ]
  },
  {
   "cell_type": "code",
   "execution_count": 15,
   "metadata": {},
   "outputs": [],
   "source": [
    "from fastai.structured import *\n",
    "import pandas as pd\n",
    "import numpy as np\n",
    "from pandas_summary import DataFrameSummary\n",
    "from sklearn.ensemble import RandomForestRegressor, RandomForestClassifier\n",
    "from IPython.display import display\n",
    "from sklearn import metrics\n",
    "import math"
   ]
  },
  {
   "cell_type": "code",
   "execution_count": 6,
   "metadata": {},
   "outputs": [],
   "source": [
    "PATH = \"data/bulldozers/\"\n",
    "df_raw = pd.read_feather('tmp/bulldozers-raw')\n",
    "df_trn, y_trn,nas= proc_df(df_raw,'SalePrice')"
   ]
  },
  {
   "cell_type": "code",
   "execution_count": 14,
   "metadata": {},
   "outputs": [
    {
     "data": {
      "text/plain": [
       "((389125, 66), (389125,), (389125,), (12000,), (389125, 65))"
      ]
     },
     "execution_count": 14,
     "metadata": {},
     "output_type": "execute_result"
    }
   ],
   "source": [
    "def split_vals(a,n): return a[:n],a[n:]\n",
    "n_valid = 12000\n",
    "n_trn = len(df_trn) - n_valid\n",
    "X_train, X_valid = split_vals(df_trn,n_trn)\n",
    "y_train, y_valid = split_vals(y_trn,n_trn)\n",
    "raw_train, raw_valid = split_vals(df_raw,n_trn)\n",
    "X_train.shape,y_train.shape,y_train.shape,y_valid.shape,raw_train.shape"
   ]
  },
  {
   "cell_type": "code",
   "execution_count": 17,
   "metadata": {},
   "outputs": [],
   "source": [
    "def rmse(predicted,actual): return math.sqrt(((predicted-actual)**2).mean())\n",
    "\n",
    "def print_score(m):\n",
    "    res = [rmse(m.predict(X_train), y_train), rmse(m.predict(X_valid), y_valid),\n",
    "                m.score(X_train, y_train), m.score(X_valid, y_valid)]\n",
    "    if hasattr(m,'oob_score_'): res.append(m.oob_score_)\n",
    "    print(res)"
   ]
  },
  {
   "cell_type": "markdown",
   "metadata": {},
   "source": [
    "### Confidence based on tree variance\n",
    "take std of the average of the predictions across each of the trees"
   ]
  },
  {
   "cell_type": "code",
   "execution_count": 18,
   "metadata": {},
   "outputs": [],
   "source": [
    "set_rf_samples(50_000)"
   ]
  },
  {
   "cell_type": "code",
   "execution_count": 20,
   "metadata": {},
   "outputs": [
    {
     "name": "stdout",
     "output_type": "stream",
     "text": [
      "CPU times: user 4 µs, sys: 1 µs, total: 5 µs\n",
      "Wall time: 7.87 µs\n",
      "[0.2211535350627861, 0.2554626549709594, 0.8977831254137735, 0.8834525390062813]\n"
     ]
    }
   ],
   "source": [
    "%time\n",
    "m = RandomForestRegressor(n_estimators=40,min_samples_leaf=3,max_features=0.5,n_jobs=4)\n",
    "m.fit(X_train,y_train)\n",
    "print_score(m)"
   ]
  },
  {
   "cell_type": "code",
   "execution_count": 26,
   "metadata": {},
   "outputs": [
    {
     "name": "stdout",
     "output_type": "stream",
     "text": [
      "CPU times: user 3 µs, sys: 0 ns, total: 3 µs\n",
      "Wall time: 8.11 µs\n"
     ]
    }
   ],
   "source": [
    "%time\n",
    "preds = np.stack([t.predict(X_valid) for t in m.estimators_])"
   ]
  },
  {
   "cell_type": "code",
   "execution_count": 36,
   "metadata": {},
   "outputs": [
    {
     "data": {
      "text/html": [
       "<div>\n",
       "<style scoped>\n",
       "    .dataframe tbody tr th:only-of-type {\n",
       "        vertical-align: middle;\n",
       "    }\n",
       "\n",
       "    .dataframe tbody tr th {\n",
       "        vertical-align: top;\n",
       "    }\n",
       "\n",
       "    .dataframe thead th {\n",
       "        text-align: right;\n",
       "    }\n",
       "</style>\n",
       "<table border=\"1\" class=\"dataframe\">\n",
       "  <thead>\n",
       "    <tr style=\"text-align: right;\">\n",
       "      <th></th>\n",
       "      <th>SalesID</th>\n",
       "      <th>MachineID</th>\n",
       "      <th>ModelID</th>\n",
       "      <th>datasource</th>\n",
       "      <th>auctioneerID</th>\n",
       "      <th>YearMade</th>\n",
       "      <th>MachineHoursCurrentMeter</th>\n",
       "      <th>UsageBand</th>\n",
       "      <th>fiModelDesc</th>\n",
       "      <th>fiBaseModel</th>\n",
       "      <th>...</th>\n",
       "      <th>saleDayofyear</th>\n",
       "      <th>saleIs_month_end</th>\n",
       "      <th>saleIs_month_start</th>\n",
       "      <th>saleIs_quarter_end</th>\n",
       "      <th>saleIs_quarter_start</th>\n",
       "      <th>saleIs_year_end</th>\n",
       "      <th>saleIs_year_start</th>\n",
       "      <th>saleElapsed</th>\n",
       "      <th>auctioneerID_na</th>\n",
       "      <th>MachineHoursCurrentMeter_na</th>\n",
       "    </tr>\n",
       "  </thead>\n",
       "  <tbody>\n",
       "    <tr>\n",
       "      <th>389125</th>\n",
       "      <td>4364751</td>\n",
       "      <td>2300944</td>\n",
       "      <td>665</td>\n",
       "      <td>172</td>\n",
       "      <td>1.0</td>\n",
       "      <td>1999</td>\n",
       "      <td>3726.0</td>\n",
       "      <td>2</td>\n",
       "      <td>3232</td>\n",
       "      <td>1111</td>\n",
       "      <td>...</td>\n",
       "      <td>259</td>\n",
       "      <td>False</td>\n",
       "      <td>False</td>\n",
       "      <td>False</td>\n",
       "      <td>False</td>\n",
       "      <td>False</td>\n",
       "      <td>False</td>\n",
       "      <td>1284595200</td>\n",
       "      <td>False</td>\n",
       "      <td>False</td>\n",
       "    </tr>\n",
       "    <tr>\n",
       "      <th>389126</th>\n",
       "      <td>4364757</td>\n",
       "      <td>1265434</td>\n",
       "      <td>12042</td>\n",
       "      <td>172</td>\n",
       "      <td>1.0</td>\n",
       "      <td>1996</td>\n",
       "      <td>5809.0</td>\n",
       "      <td>2</td>\n",
       "      <td>3234</td>\n",
       "      <td>1112</td>\n",
       "      <td>...</td>\n",
       "      <td>343</td>\n",
       "      <td>False</td>\n",
       "      <td>False</td>\n",
       "      <td>False</td>\n",
       "      <td>False</td>\n",
       "      <td>False</td>\n",
       "      <td>False</td>\n",
       "      <td>1291852800</td>\n",
       "      <td>False</td>\n",
       "      <td>False</td>\n",
       "    </tr>\n",
       "    <tr>\n",
       "      <th>389127</th>\n",
       "      <td>4364774</td>\n",
       "      <td>2005935</td>\n",
       "      <td>9218</td>\n",
       "      <td>172</td>\n",
       "      <td>1.0</td>\n",
       "      <td>1993</td>\n",
       "      <td>0.0</td>\n",
       "      <td>-1</td>\n",
       "      <td>3238</td>\n",
       "      <td>1115</td>\n",
       "      <td>...</td>\n",
       "      <td>218</td>\n",
       "      <td>False</td>\n",
       "      <td>False</td>\n",
       "      <td>False</td>\n",
       "      <td>False</td>\n",
       "      <td>False</td>\n",
       "      <td>False</td>\n",
       "      <td>1281052800</td>\n",
       "      <td>False</td>\n",
       "      <td>False</td>\n",
       "    </tr>\n",
       "    <tr>\n",
       "      <th>389128</th>\n",
       "      <td>4364807</td>\n",
       "      <td>2296707</td>\n",
       "      <td>668</td>\n",
       "      <td>172</td>\n",
       "      <td>1.0</td>\n",
       "      <td>2000</td>\n",
       "      <td>1789.0</td>\n",
       "      <td>2</td>\n",
       "      <td>3242</td>\n",
       "      <td>1116</td>\n",
       "      <td>...</td>\n",
       "      <td>349</td>\n",
       "      <td>False</td>\n",
       "      <td>False</td>\n",
       "      <td>False</td>\n",
       "      <td>False</td>\n",
       "      <td>False</td>\n",
       "      <td>False</td>\n",
       "      <td>1292371200</td>\n",
       "      <td>False</td>\n",
       "      <td>False</td>\n",
       "    </tr>\n",
       "    <tr>\n",
       "      <th>389129</th>\n",
       "      <td>4364811</td>\n",
       "      <td>1403366</td>\n",
       "      <td>9219</td>\n",
       "      <td>172</td>\n",
       "      <td>1.0</td>\n",
       "      <td>1999</td>\n",
       "      <td>0.0</td>\n",
       "      <td>-1</td>\n",
       "      <td>3241</td>\n",
       "      <td>1116</td>\n",
       "      <td>...</td>\n",
       "      <td>161</td>\n",
       "      <td>False</td>\n",
       "      <td>False</td>\n",
       "      <td>False</td>\n",
       "      <td>False</td>\n",
       "      <td>False</td>\n",
       "      <td>False</td>\n",
       "      <td>1244592000</td>\n",
       "      <td>False</td>\n",
       "      <td>False</td>\n",
       "    </tr>\n",
       "    <tr>\n",
       "      <th>...</th>\n",
       "      <td>...</td>\n",
       "      <td>...</td>\n",
       "      <td>...</td>\n",
       "      <td>...</td>\n",
       "      <td>...</td>\n",
       "      <td>...</td>\n",
       "      <td>...</td>\n",
       "      <td>...</td>\n",
       "      <td>...</td>\n",
       "      <td>...</td>\n",
       "      <td>...</td>\n",
       "      <td>...</td>\n",
       "      <td>...</td>\n",
       "      <td>...</td>\n",
       "      <td>...</td>\n",
       "      <td>...</td>\n",
       "      <td>...</td>\n",
       "      <td>...</td>\n",
       "      <td>...</td>\n",
       "      <td>...</td>\n",
       "      <td>...</td>\n",
       "    </tr>\n",
       "    <tr>\n",
       "      <th>401120</th>\n",
       "      <td>6333336</td>\n",
       "      <td>1840702</td>\n",
       "      <td>21439</td>\n",
       "      <td>149</td>\n",
       "      <td>1.0</td>\n",
       "      <td>2005</td>\n",
       "      <td>0.0</td>\n",
       "      <td>-1</td>\n",
       "      <td>657</td>\n",
       "      <td>207</td>\n",
       "      <td>...</td>\n",
       "      <td>306</td>\n",
       "      <td>False</td>\n",
       "      <td>False</td>\n",
       "      <td>False</td>\n",
       "      <td>False</td>\n",
       "      <td>False</td>\n",
       "      <td>False</td>\n",
       "      <td>1320192000</td>\n",
       "      <td>False</td>\n",
       "      <td>True</td>\n",
       "    </tr>\n",
       "    <tr>\n",
       "      <th>401121</th>\n",
       "      <td>6333337</td>\n",
       "      <td>1830472</td>\n",
       "      <td>21439</td>\n",
       "      <td>149</td>\n",
       "      <td>1.0</td>\n",
       "      <td>2005</td>\n",
       "      <td>0.0</td>\n",
       "      <td>-1</td>\n",
       "      <td>657</td>\n",
       "      <td>207</td>\n",
       "      <td>...</td>\n",
       "      <td>306</td>\n",
       "      <td>False</td>\n",
       "      <td>False</td>\n",
       "      <td>False</td>\n",
       "      <td>False</td>\n",
       "      <td>False</td>\n",
       "      <td>False</td>\n",
       "      <td>1320192000</td>\n",
       "      <td>False</td>\n",
       "      <td>True</td>\n",
       "    </tr>\n",
       "    <tr>\n",
       "      <th>401122</th>\n",
       "      <td>6333338</td>\n",
       "      <td>1887659</td>\n",
       "      <td>21439</td>\n",
       "      <td>149</td>\n",
       "      <td>1.0</td>\n",
       "      <td>2005</td>\n",
       "      <td>0.0</td>\n",
       "      <td>-1</td>\n",
       "      <td>657</td>\n",
       "      <td>207</td>\n",
       "      <td>...</td>\n",
       "      <td>306</td>\n",
       "      <td>False</td>\n",
       "      <td>False</td>\n",
       "      <td>False</td>\n",
       "      <td>False</td>\n",
       "      <td>False</td>\n",
       "      <td>False</td>\n",
       "      <td>1320192000</td>\n",
       "      <td>False</td>\n",
       "      <td>True</td>\n",
       "    </tr>\n",
       "    <tr>\n",
       "      <th>401123</th>\n",
       "      <td>6333341</td>\n",
       "      <td>1903570</td>\n",
       "      <td>21435</td>\n",
       "      <td>149</td>\n",
       "      <td>2.0</td>\n",
       "      <td>2005</td>\n",
       "      <td>0.0</td>\n",
       "      <td>-1</td>\n",
       "      <td>483</td>\n",
       "      <td>159</td>\n",
       "      <td>...</td>\n",
       "      <td>298</td>\n",
       "      <td>False</td>\n",
       "      <td>False</td>\n",
       "      <td>False</td>\n",
       "      <td>False</td>\n",
       "      <td>False</td>\n",
       "      <td>False</td>\n",
       "      <td>1319500800</td>\n",
       "      <td>False</td>\n",
       "      <td>True</td>\n",
       "    </tr>\n",
       "    <tr>\n",
       "      <th>401124</th>\n",
       "      <td>6333342</td>\n",
       "      <td>1926965</td>\n",
       "      <td>21435</td>\n",
       "      <td>149</td>\n",
       "      <td>2.0</td>\n",
       "      <td>2005</td>\n",
       "      <td>0.0</td>\n",
       "      <td>-1</td>\n",
       "      <td>483</td>\n",
       "      <td>159</td>\n",
       "      <td>...</td>\n",
       "      <td>298</td>\n",
       "      <td>False</td>\n",
       "      <td>False</td>\n",
       "      <td>False</td>\n",
       "      <td>False</td>\n",
       "      <td>False</td>\n",
       "      <td>False</td>\n",
       "      <td>1319500800</td>\n",
       "      <td>False</td>\n",
       "      <td>True</td>\n",
       "    </tr>\n",
       "  </tbody>\n",
       "</table>\n",
       "<p>12000 rows × 66 columns</p>\n",
       "</div>"
      ],
      "text/plain": [
       "        SalesID  MachineID  ModelID  datasource  auctioneerID  YearMade  \\\n",
       "389125  4364751    2300944      665         172           1.0      1999   \n",
       "389126  4364757    1265434    12042         172           1.0      1996   \n",
       "389127  4364774    2005935     9218         172           1.0      1993   \n",
       "389128  4364807    2296707      668         172           1.0      2000   \n",
       "389129  4364811    1403366     9219         172           1.0      1999   \n",
       "...         ...        ...      ...         ...           ...       ...   \n",
       "401120  6333336    1840702    21439         149           1.0      2005   \n",
       "401121  6333337    1830472    21439         149           1.0      2005   \n",
       "401122  6333338    1887659    21439         149           1.0      2005   \n",
       "401123  6333341    1903570    21435         149           2.0      2005   \n",
       "401124  6333342    1926965    21435         149           2.0      2005   \n",
       "\n",
       "        MachineHoursCurrentMeter  UsageBand  fiModelDesc  fiBaseModel  ...  \\\n",
       "389125                    3726.0          2         3232         1111  ...   \n",
       "389126                    5809.0          2         3234         1112  ...   \n",
       "389127                       0.0         -1         3238         1115  ...   \n",
       "389128                    1789.0          2         3242         1116  ...   \n",
       "389129                       0.0         -1         3241         1116  ...   \n",
       "...                          ...        ...          ...          ...  ...   \n",
       "401120                       0.0         -1          657          207  ...   \n",
       "401121                       0.0         -1          657          207  ...   \n",
       "401122                       0.0         -1          657          207  ...   \n",
       "401123                       0.0         -1          483          159  ...   \n",
       "401124                       0.0         -1          483          159  ...   \n",
       "\n",
       "        saleDayofyear  saleIs_month_end  saleIs_month_start  \\\n",
       "389125            259             False               False   \n",
       "389126            343             False               False   \n",
       "389127            218             False               False   \n",
       "389128            349             False               False   \n",
       "389129            161             False               False   \n",
       "...               ...               ...                 ...   \n",
       "401120            306             False               False   \n",
       "401121            306             False               False   \n",
       "401122            306             False               False   \n",
       "401123            298             False               False   \n",
       "401124            298             False               False   \n",
       "\n",
       "        saleIs_quarter_end  saleIs_quarter_start  saleIs_year_end  \\\n",
       "389125               False                 False            False   \n",
       "389126               False                 False            False   \n",
       "389127               False                 False            False   \n",
       "389128               False                 False            False   \n",
       "389129               False                 False            False   \n",
       "...                    ...                   ...              ...   \n",
       "401120               False                 False            False   \n",
       "401121               False                 False            False   \n",
       "401122               False                 False            False   \n",
       "401123               False                 False            False   \n",
       "401124               False                 False            False   \n",
       "\n",
       "        saleIs_year_start  saleElapsed  auctioneerID_na  \\\n",
       "389125              False   1284595200            False   \n",
       "389126              False   1291852800            False   \n",
       "389127              False   1281052800            False   \n",
       "389128              False   1292371200            False   \n",
       "389129              False   1244592000            False   \n",
       "...                   ...          ...              ...   \n",
       "401120              False   1320192000            False   \n",
       "401121              False   1320192000            False   \n",
       "401122              False   1320192000            False   \n",
       "401123              False   1319500800            False   \n",
       "401124              False   1319500800            False   \n",
       "\n",
       "        MachineHoursCurrentMeter_na  \n",
       "389125                        False  \n",
       "389126                        False  \n",
       "389127                        False  \n",
       "389128                        False  \n",
       "389129                        False  \n",
       "...                             ...  \n",
       "401120                         True  \n",
       "401121                         True  \n",
       "401122                         True  \n",
       "401123                         True  \n",
       "401124                         True  \n",
       "\n",
       "[12000 rows x 66 columns]"
      ]
     },
     "execution_count": 36,
     "metadata": {},
     "output_type": "execute_result"
    }
   ],
   "source": [
    "X_valid"
   ]
  },
  {
   "cell_type": "markdown",
   "metadata": {},
   "source": [
    "#### predictions\n",
    "- val set contains 12k rows (obsv) with 66 features\n",
    "- preds takes the predictions of each of the 40 specificed trees (n_estimators)\n",
    "    - 40 rows for each tree, 12k cols (each tree contains the average value of each of the 12k obs in the validation set\n",
    "    "
   ]
  },
  {
   "cell_type": "code",
   "execution_count": 37,
   "metadata": {},
   "outputs": [
    {
     "data": {
      "text/plain": [
       "(40, 12000)"
      ]
     },
     "metadata": {},
     "output_type": "display_data"
    },
    {
     "data": {
      "text/plain": [
       "array([[ 9.20681,  9.318  ,  9.51205, ...,  9.31915,  9.12203,  9.12203],\n",
       "       [ 9.042  ,  9.60983,  9.24932, ..., 10.63311,  9.07292,  9.07292],\n",
       "       [ 9.04724,  9.00145,  9.04724, ...,  9.19557,  9.63732,  9.63732],\n",
       "       ...,\n",
       "       [ 9.12197,  9.39838,  9.09978, ...,  9.42986,  9.42986,  9.42986],\n",
       "       [ 9.1185 ,  9.88894,  9.00051, ...,  9.26753,  9.03163,  9.03163],\n",
       "       [ 9.25693,  9.06223,  9.02918, ...,  9.06816, 10.20599, 10.20599]])"
      ]
     },
     "metadata": {},
     "output_type": "display_data"
    }
   ],
   "source": [
    "display(preds.shape,preds)"
   ]
  },
  {
   "cell_type": "code",
   "execution_count": 43,
   "metadata": {},
   "outputs": [
    {
     "data": {
      "text/plain": [
       "9.323783383714574"
      ]
     },
     "metadata": {},
     "output_type": "display_data"
    },
    {
     "data": {
      "text/plain": [
       "0.3652902969823836"
      ]
     },
     "metadata": {},
     "output_type": "display_data"
    }
   ],
   "source": [
    "display(np.mean(preds[:,0])) # the mean of all the trees, for the 1st observation\n",
    "display(np.std(preds[:,0])) # the std of all the trees, for the 1st observation"
   ]
  },
  {
   "cell_type": "markdown",
   "metadata": {},
   "source": [
    "#### Parallelize the predictions operation"
   ]
  },
  {
   "cell_type": "code",
   "execution_count": 44,
   "metadata": {},
   "outputs": [
    {
     "name": "stdout",
     "output_type": "stream",
     "text": [
      "CPU times: user 76.1 ms, sys: 65.1 ms, total: 141 ms\n",
      "Wall time: 1.1 s\n"
     ]
    },
    {
     "data": {
      "text/plain": [
       "(9.323783383714574, 0.3652902969823836)"
      ]
     },
     "execution_count": 44,
     "metadata": {},
     "output_type": "execute_result"
    }
   ],
   "source": [
    "def get_preds(t): return t.predict(X_valid)\n",
    "%time preds = np.stack(parallel_trees(m, get_preds))\n",
    "np.mean(preds[:,0]), np.std(preds[:,0])"
   ]
  },
  {
   "cell_type": "code",
   "execution_count": 45,
   "metadata": {},
   "outputs": [
    {
     "data": {
      "text/html": [
       "<div>\n",
       "<style scoped>\n",
       "    .dataframe tbody tr th:only-of-type {\n",
       "        vertical-align: middle;\n",
       "    }\n",
       "\n",
       "    .dataframe tbody tr th {\n",
       "        vertical-align: top;\n",
       "    }\n",
       "\n",
       "    .dataframe thead th {\n",
       "        text-align: right;\n",
       "    }\n",
       "</style>\n",
       "<table border=\"1\" class=\"dataframe\">\n",
       "  <thead>\n",
       "    <tr style=\"text-align: right;\">\n",
       "      <th></th>\n",
       "      <th>SalesID</th>\n",
       "      <th>SalePrice</th>\n",
       "      <th>MachineID</th>\n",
       "      <th>ModelID</th>\n",
       "      <th>datasource</th>\n",
       "      <th>auctioneerID</th>\n",
       "      <th>YearMade</th>\n",
       "      <th>MachineHoursCurrentMeter</th>\n",
       "      <th>UsageBand</th>\n",
       "      <th>fiModelDesc</th>\n",
       "      <th>...</th>\n",
       "      <th>saleDay</th>\n",
       "      <th>saleDayofweek</th>\n",
       "      <th>saleDayofyear</th>\n",
       "      <th>saleIs_month_end</th>\n",
       "      <th>saleIs_month_start</th>\n",
       "      <th>saleIs_quarter_end</th>\n",
       "      <th>saleIs_quarter_start</th>\n",
       "      <th>saleIs_year_end</th>\n",
       "      <th>saleIs_year_start</th>\n",
       "      <th>saleElapsed</th>\n",
       "    </tr>\n",
       "  </thead>\n",
       "  <tbody>\n",
       "    <tr>\n",
       "      <th>389125</th>\n",
       "      <td>4364751</td>\n",
       "      <td>9.104980</td>\n",
       "      <td>2300944</td>\n",
       "      <td>665</td>\n",
       "      <td>172</td>\n",
       "      <td>1.0</td>\n",
       "      <td>1999</td>\n",
       "      <td>3726.0</td>\n",
       "      <td>2</td>\n",
       "      <td>KX1212</td>\n",
       "      <td>...</td>\n",
       "      <td>16</td>\n",
       "      <td>3</td>\n",
       "      <td>259</td>\n",
       "      <td>False</td>\n",
       "      <td>False</td>\n",
       "      <td>False</td>\n",
       "      <td>False</td>\n",
       "      <td>False</td>\n",
       "      <td>False</td>\n",
       "      <td>1284595200</td>\n",
       "    </tr>\n",
       "    <tr>\n",
       "      <th>389126</th>\n",
       "      <td>4364757</td>\n",
       "      <td>9.047821</td>\n",
       "      <td>1265434</td>\n",
       "      <td>12042</td>\n",
       "      <td>172</td>\n",
       "      <td>1.0</td>\n",
       "      <td>1996</td>\n",
       "      <td>5809.0</td>\n",
       "      <td>2</td>\n",
       "      <td>KX151</td>\n",
       "      <td>...</td>\n",
       "      <td>9</td>\n",
       "      <td>3</td>\n",
       "      <td>343</td>\n",
       "      <td>False</td>\n",
       "      <td>False</td>\n",
       "      <td>False</td>\n",
       "      <td>False</td>\n",
       "      <td>False</td>\n",
       "      <td>False</td>\n",
       "      <td>1291852800</td>\n",
       "    </tr>\n",
       "    <tr>\n",
       "      <th>389127</th>\n",
       "      <td>4364774</td>\n",
       "      <td>9.104980</td>\n",
       "      <td>2005935</td>\n",
       "      <td>9218</td>\n",
       "      <td>172</td>\n",
       "      <td>1.0</td>\n",
       "      <td>1993</td>\n",
       "      <td>0.0</td>\n",
       "      <td>-1</td>\n",
       "      <td>KX41</td>\n",
       "      <td>...</td>\n",
       "      <td>6</td>\n",
       "      <td>4</td>\n",
       "      <td>218</td>\n",
       "      <td>False</td>\n",
       "      <td>False</td>\n",
       "      <td>False</td>\n",
       "      <td>False</td>\n",
       "      <td>False</td>\n",
       "      <td>False</td>\n",
       "      <td>1281052800</td>\n",
       "    </tr>\n",
       "    <tr>\n",
       "      <th>389128</th>\n",
       "      <td>4364807</td>\n",
       "      <td>9.259131</td>\n",
       "      <td>2296707</td>\n",
       "      <td>668</td>\n",
       "      <td>172</td>\n",
       "      <td>1.0</td>\n",
       "      <td>2000</td>\n",
       "      <td>1789.0</td>\n",
       "      <td>2</td>\n",
       "      <td>KX612</td>\n",
       "      <td>...</td>\n",
       "      <td>15</td>\n",
       "      <td>2</td>\n",
       "      <td>349</td>\n",
       "      <td>False</td>\n",
       "      <td>False</td>\n",
       "      <td>False</td>\n",
       "      <td>False</td>\n",
       "      <td>False</td>\n",
       "      <td>False</td>\n",
       "      <td>1292371200</td>\n",
       "    </tr>\n",
       "    <tr>\n",
       "      <th>389129</th>\n",
       "      <td>4364811</td>\n",
       "      <td>9.104980</td>\n",
       "      <td>1403366</td>\n",
       "      <td>9219</td>\n",
       "      <td>172</td>\n",
       "      <td>1.0</td>\n",
       "      <td>1999</td>\n",
       "      <td>0.0</td>\n",
       "      <td>-1</td>\n",
       "      <td>KX61</td>\n",
       "      <td>...</td>\n",
       "      <td>10</td>\n",
       "      <td>2</td>\n",
       "      <td>161</td>\n",
       "      <td>False</td>\n",
       "      <td>False</td>\n",
       "      <td>False</td>\n",
       "      <td>False</td>\n",
       "      <td>False</td>\n",
       "      <td>False</td>\n",
       "      <td>1244592000</td>\n",
       "    </tr>\n",
       "    <tr>\n",
       "      <th>...</th>\n",
       "      <td>...</td>\n",
       "      <td>...</td>\n",
       "      <td>...</td>\n",
       "      <td>...</td>\n",
       "      <td>...</td>\n",
       "      <td>...</td>\n",
       "      <td>...</td>\n",
       "      <td>...</td>\n",
       "      <td>...</td>\n",
       "      <td>...</td>\n",
       "      <td>...</td>\n",
       "      <td>...</td>\n",
       "      <td>...</td>\n",
       "      <td>...</td>\n",
       "      <td>...</td>\n",
       "      <td>...</td>\n",
       "      <td>...</td>\n",
       "      <td>...</td>\n",
       "      <td>...</td>\n",
       "      <td>...</td>\n",
       "      <td>...</td>\n",
       "    </tr>\n",
       "    <tr>\n",
       "      <th>401120</th>\n",
       "      <td>6333336</td>\n",
       "      <td>9.259131</td>\n",
       "      <td>1840702</td>\n",
       "      <td>21439</td>\n",
       "      <td>149</td>\n",
       "      <td>1.0</td>\n",
       "      <td>2005</td>\n",
       "      <td>NaN</td>\n",
       "      <td>-1</td>\n",
       "      <td>35NX2</td>\n",
       "      <td>...</td>\n",
       "      <td>2</td>\n",
       "      <td>2</td>\n",
       "      <td>306</td>\n",
       "      <td>False</td>\n",
       "      <td>False</td>\n",
       "      <td>False</td>\n",
       "      <td>False</td>\n",
       "      <td>False</td>\n",
       "      <td>False</td>\n",
       "      <td>1320192000</td>\n",
       "    </tr>\n",
       "    <tr>\n",
       "      <th>401121</th>\n",
       "      <td>6333337</td>\n",
       "      <td>9.305651</td>\n",
       "      <td>1830472</td>\n",
       "      <td>21439</td>\n",
       "      <td>149</td>\n",
       "      <td>1.0</td>\n",
       "      <td>2005</td>\n",
       "      <td>NaN</td>\n",
       "      <td>-1</td>\n",
       "      <td>35NX2</td>\n",
       "      <td>...</td>\n",
       "      <td>2</td>\n",
       "      <td>2</td>\n",
       "      <td>306</td>\n",
       "      <td>False</td>\n",
       "      <td>False</td>\n",
       "      <td>False</td>\n",
       "      <td>False</td>\n",
       "      <td>False</td>\n",
       "      <td>False</td>\n",
       "      <td>1320192000</td>\n",
       "    </tr>\n",
       "    <tr>\n",
       "      <th>401122</th>\n",
       "      <td>6333338</td>\n",
       "      <td>9.350102</td>\n",
       "      <td>1887659</td>\n",
       "      <td>21439</td>\n",
       "      <td>149</td>\n",
       "      <td>1.0</td>\n",
       "      <td>2005</td>\n",
       "      <td>NaN</td>\n",
       "      <td>-1</td>\n",
       "      <td>35NX2</td>\n",
       "      <td>...</td>\n",
       "      <td>2</td>\n",
       "      <td>2</td>\n",
       "      <td>306</td>\n",
       "      <td>False</td>\n",
       "      <td>False</td>\n",
       "      <td>False</td>\n",
       "      <td>False</td>\n",
       "      <td>False</td>\n",
       "      <td>False</td>\n",
       "      <td>1320192000</td>\n",
       "    </tr>\n",
       "    <tr>\n",
       "      <th>401123</th>\n",
       "      <td>6333341</td>\n",
       "      <td>9.104980</td>\n",
       "      <td>1903570</td>\n",
       "      <td>21435</td>\n",
       "      <td>149</td>\n",
       "      <td>2.0</td>\n",
       "      <td>2005</td>\n",
       "      <td>NaN</td>\n",
       "      <td>-1</td>\n",
       "      <td>30NX</td>\n",
       "      <td>...</td>\n",
       "      <td>25</td>\n",
       "      <td>1</td>\n",
       "      <td>298</td>\n",
       "      <td>False</td>\n",
       "      <td>False</td>\n",
       "      <td>False</td>\n",
       "      <td>False</td>\n",
       "      <td>False</td>\n",
       "      <td>False</td>\n",
       "      <td>1319500800</td>\n",
       "    </tr>\n",
       "    <tr>\n",
       "      <th>401124</th>\n",
       "      <td>6333342</td>\n",
       "      <td>8.955448</td>\n",
       "      <td>1926965</td>\n",
       "      <td>21435</td>\n",
       "      <td>149</td>\n",
       "      <td>2.0</td>\n",
       "      <td>2005</td>\n",
       "      <td>NaN</td>\n",
       "      <td>-1</td>\n",
       "      <td>30NX</td>\n",
       "      <td>...</td>\n",
       "      <td>25</td>\n",
       "      <td>1</td>\n",
       "      <td>298</td>\n",
       "      <td>False</td>\n",
       "      <td>False</td>\n",
       "      <td>False</td>\n",
       "      <td>False</td>\n",
       "      <td>False</td>\n",
       "      <td>False</td>\n",
       "      <td>1319500800</td>\n",
       "    </tr>\n",
       "  </tbody>\n",
       "</table>\n",
       "<p>12000 rows × 65 columns</p>\n",
       "</div>"
      ],
      "text/plain": [
       "        SalesID  SalePrice  MachineID  ModelID  datasource  auctioneerID  \\\n",
       "389125  4364751   9.104980    2300944      665         172           1.0   \n",
       "389126  4364757   9.047821    1265434    12042         172           1.0   \n",
       "389127  4364774   9.104980    2005935     9218         172           1.0   \n",
       "389128  4364807   9.259131    2296707      668         172           1.0   \n",
       "389129  4364811   9.104980    1403366     9219         172           1.0   \n",
       "...         ...        ...        ...      ...         ...           ...   \n",
       "401120  6333336   9.259131    1840702    21439         149           1.0   \n",
       "401121  6333337   9.305651    1830472    21439         149           1.0   \n",
       "401122  6333338   9.350102    1887659    21439         149           1.0   \n",
       "401123  6333341   9.104980    1903570    21435         149           2.0   \n",
       "401124  6333342   8.955448    1926965    21435         149           2.0   \n",
       "\n",
       "        YearMade  MachineHoursCurrentMeter  UsageBand fiModelDesc  ...  \\\n",
       "389125      1999                    3726.0          2      KX1212  ...   \n",
       "389126      1996                    5809.0          2       KX151  ...   \n",
       "389127      1993                       0.0         -1        KX41  ...   \n",
       "389128      2000                    1789.0          2       KX612  ...   \n",
       "389129      1999                       0.0         -1        KX61  ...   \n",
       "...          ...                       ...        ...         ...  ...   \n",
       "401120      2005                       NaN         -1       35NX2  ...   \n",
       "401121      2005                       NaN         -1       35NX2  ...   \n",
       "401122      2005                       NaN         -1       35NX2  ...   \n",
       "401123      2005                       NaN         -1        30NX  ...   \n",
       "401124      2005                       NaN         -1        30NX  ...   \n",
       "\n",
       "       saleDay saleDayofweek saleDayofyear saleIs_month_end  \\\n",
       "389125      16             3           259            False   \n",
       "389126       9             3           343            False   \n",
       "389127       6             4           218            False   \n",
       "389128      15             2           349            False   \n",
       "389129      10             2           161            False   \n",
       "...        ...           ...           ...              ...   \n",
       "401120       2             2           306            False   \n",
       "401121       2             2           306            False   \n",
       "401122       2             2           306            False   \n",
       "401123      25             1           298            False   \n",
       "401124      25             1           298            False   \n",
       "\n",
       "       saleIs_month_start saleIs_quarter_end saleIs_quarter_start  \\\n",
       "389125              False              False                False   \n",
       "389126              False              False                False   \n",
       "389127              False              False                False   \n",
       "389128              False              False                False   \n",
       "389129              False              False                False   \n",
       "...                   ...                ...                  ...   \n",
       "401120              False              False                False   \n",
       "401121              False              False                False   \n",
       "401122              False              False                False   \n",
       "401123              False              False                False   \n",
       "401124              False              False                False   \n",
       "\n",
       "       saleIs_year_end saleIs_year_start saleElapsed  \n",
       "389125           False             False  1284595200  \n",
       "389126           False             False  1291852800  \n",
       "389127           False             False  1281052800  \n",
       "389128           False             False  1292371200  \n",
       "389129           False             False  1244592000  \n",
       "...                ...               ...         ...  \n",
       "401120           False             False  1320192000  \n",
       "401121           False             False  1320192000  \n",
       "401122           False             False  1320192000  \n",
       "401123           False             False  1319500800  \n",
       "401124           False             False  1319500800  \n",
       "\n",
       "[12000 rows x 65 columns]"
      ]
     },
     "execution_count": 45,
     "metadata": {},
     "output_type": "execute_result"
    }
   ],
   "source": [
    "raw_valid "
   ]
  },
  {
   "cell_type": "markdown",
   "metadata": {},
   "source": [
    "#### Visualize confidence intervals by columns\n",
    "- looking to see which cols contain data, etc"
   ]
  },
  {
   "cell_type": "code",
   "execution_count": 66,
   "metadata": {},
   "outputs": [
    {
     "data": {
      "image/png": "[encoded data removed]",
      "text/plain": [
       "<Figure size 432x288 with 1 Axes>"
      ]
     },
     "metadata": {
      "needs_background": "light"
     },
     "output_type": "display_data"
    }
   ],
   "source": [
    "valid_copy = raw_valid.copy()\n",
    "valid_copy['pred_std'] = np.std(preds, axis=0) # down all the trees\n",
    "valid_copy['pred'] = np.mean(preds, axis=0)\n",
    "valid_copy.Enclosure.value_counts().plot.barh();"
   ]
  },
  {
   "cell_type": "markdown",
   "metadata": {},
   "source": [
    "##### Side note - seeing how axis=0, and axis=1 affect things\n",
    "- axis=0 down rows\n",
    "- axis=1 across cols"
   ]
  },
  {
   "cell_type": "code",
   "execution_count": 62,
   "metadata": {},
   "outputs": [
    {
     "data": {
      "text/plain": [
       "array([[1, 1],\n",
       "       [2, 2]])"
      ]
     },
     "execution_count": 62,
     "metadata": {},
     "output_type": "execute_result"
    }
   ],
   "source": [
    "test = np.array([[1,1],[2,2]])\n",
    "test"
   ]
  },
  {
   "cell_type": "code",
   "execution_count": 64,
   "metadata": {},
   "outputs": [
    {
     "data": {
      "text/plain": [
       "(array([1.5, 1.5]), (2,), array([1., 2.]), (2,))"
      ]
     },
     "execution_count": 64,
     "metadata": {},
     "output_type": "execute_result"
    }
   ],
   "source": [
    "axis0 = np.mean(test,axis=0)\n",
    "axis1 = np.mean(test,axis=1)\n",
    "axis0, axis0.shape, axis1, axis1.shape"
   ]
  },
  {
   "cell_type": "markdown",
   "metadata": {},
   "source": [
    "#### see how Enclosure and SalePrice are related"
   ]
  },
  {
   "cell_type": "code",
   "execution_count": 68,
   "metadata": {},
   "outputs": [
    {
     "data": {
      "text/html": [
       "<div>\n",
       "<style scoped>\n",
       "    .dataframe tbody tr th:only-of-type {\n",
       "        vertical-align: middle;\n",
       "    }\n",
       "\n",
       "    .dataframe tbody tr th {\n",
       "        vertical-align: top;\n",
       "    }\n",
       "\n",
       "    .dataframe thead th {\n",
       "        text-align: right;\n",
       "    }\n",
       "</style>\n",
       "<table border=\"1\" class=\"dataframe\">\n",
       "  <thead>\n",
       "    <tr style=\"text-align: right;\">\n",
       "      <th></th>\n",
       "      <th>Enclosure</th>\n",
       "      <th>SalePrice</th>\n",
       "      <th>pred</th>\n",
       "      <th>pred_std</th>\n",
       "    </tr>\n",
       "  </thead>\n",
       "  <tbody>\n",
       "    <tr>\n",
       "      <th>0</th>\n",
       "      <td>EROPS</td>\n",
       "      <td>9.849178</td>\n",
       "      <td>9.845262</td>\n",
       "      <td>0.288425</td>\n",
       "    </tr>\n",
       "    <tr>\n",
       "      <th>1</th>\n",
       "      <td>EROPS AC</td>\n",
       "      <td>NaN</td>\n",
       "      <td>NaN</td>\n",
       "      <td>NaN</td>\n",
       "    </tr>\n",
       "    <tr>\n",
       "      <th>2</th>\n",
       "      <td>EROPS w AC</td>\n",
       "      <td>10.623971</td>\n",
       "      <td>10.569930</td>\n",
       "      <td>0.278594</td>\n",
       "    </tr>\n",
       "    <tr>\n",
       "      <th>3</th>\n",
       "      <td>NO ROPS</td>\n",
       "      <td>NaN</td>\n",
       "      <td>NaN</td>\n",
       "      <td>NaN</td>\n",
       "    </tr>\n",
       "    <tr>\n",
       "      <th>4</th>\n",
       "      <td>None or Unspecified</td>\n",
       "      <td>NaN</td>\n",
       "      <td>NaN</td>\n",
       "      <td>NaN</td>\n",
       "    </tr>\n",
       "    <tr>\n",
       "      <th>5</th>\n",
       "      <td>OROPS</td>\n",
       "      <td>9.682064</td>\n",
       "      <td>9.688937</td>\n",
       "      <td>0.232535</td>\n",
       "    </tr>\n",
       "  </tbody>\n",
       "</table>\n",
       "</div>"
      ],
      "text/plain": [
       "             Enclosure  SalePrice       pred  pred_std\n",
       "0                EROPS   9.849178   9.845262  0.288425\n",
       "1             EROPS AC        NaN        NaN       NaN\n",
       "2           EROPS w AC  10.623971  10.569930  0.278594\n",
       "3              NO ROPS        NaN        NaN       NaN\n",
       "4  None or Unspecified        NaN        NaN       NaN\n",
       "5                OROPS   9.682064   9.688937  0.232535"
      ]
     },
     "execution_count": 68,
     "metadata": {},
     "output_type": "execute_result"
    }
   ],
   "source": [
    "flds = ['Enclosure', 'SalePrice', 'pred', 'pred_std']\n",
    "enc_summ = valid_copy[flds].groupby('Enclosure', as_index=False).mean()\n",
    "enc_summ"
   ]
  },
  {
   "cell_type": "code",
   "execution_count": 69,
   "metadata": {},
   "outputs": [
    {
     "data": {
      "text/plain": [
       "<matplotlib.axes._subplots.AxesSubplot at 0x12e5d63c8>"
      ]
     },
     "execution_count": 69,
     "metadata": {},
     "output_type": "execute_result"
    },
    {
     "data": {
      "image/png": "[encoded data removed]",
      "text/plain": [
       "<Figure size 432x288 with 1 Axes>"
      ]
     },
     "metadata": {
      "needs_background": "light"
     },
     "output_type": "display_data"
    }
   ],
   "source": [
    "# enc_summ = enc_summ[~pd.isnull(enc_summ.SalePrice)]\n",
    "enc_summ.plot('Enclosure', 'SalePrice', 'barh', xlim=(0,11))"
   ]
  },
  {
   "cell_type": "code",
   "execution_count": 70,
   "metadata": {},
   "outputs": [
    {
     "data": {
      "text/plain": [
       "<matplotlib.axes._subplots.AxesSubplot at 0x12fdaa1d0>"
      ]
     },
     "execution_count": 70,
     "metadata": {},
     "output_type": "execute_result"
    },
    {
     "data": {
      "image/png": "[encoded data removed]",
      "text/plain": [
       "<Figure size 432x288 with 1 Axes>"
      ]
     },
     "metadata": {
      "needs_background": "light"
     },
     "output_type": "display_data"
    }
   ],
   "source": [
    "enc_summ = enc_summ[~pd.isnull(enc_summ.SalePrice)]\n",
    "enc_summ.plot('Enclosure', 'SalePrice', 'barh', xlim=(0,11))"
   ]
  },
  {
   "cell_type": "code",
   "execution_count": 71,
   "metadata": {},
   "outputs": [
    {
     "data": {
      "image/png": "[encoded data removed]",
      "text/plain": [
       "<Figure size 432x288 with 1 Axes>"
      ]
     },
     "metadata": {
      "needs_background": "light"
     },
     "output_type": "display_data"
    }
   ],
   "source": [
    "enc_summ.plot('Enclosure', 'pred', 'barh', xerr='pred_std', alpha=0.6, xlim=(0,11));"
   ]
  },
  {
   "cell_type": "code",
   "execution_count": 72,
   "metadata": {},
   "outputs": [
    {
     "data": {
      "image/png": "[encoded data removed]",
      "text/plain": [
       "<Figure size 432x288 with 1 Axes>"
      ]
     },
     "metadata": {
      "needs_background": "light"
     },
     "output_type": "display_data"
    }
   ],
   "source": [
    "raw_valid.ProductSize.value_counts().plot.barh();"
   ]
  },
  {
   "cell_type": "code",
   "execution_count": 74,
   "metadata": {},
   "outputs": [
    {
     "data": {
      "text/html": [
       "<div>\n",
       "<style scoped>\n",
       "    .dataframe tbody tr th:only-of-type {\n",
       "        vertical-align: middle;\n",
       "    }\n",
       "\n",
       "    .dataframe tbody tr th {\n",
       "        vertical-align: top;\n",
       "    }\n",
       "\n",
       "    .dataframe thead th {\n",
       "        text-align: right;\n",
       "    }\n",
       "</style>\n",
       "<table border=\"1\" class=\"dataframe\">\n",
       "  <thead>\n",
       "    <tr style=\"text-align: right;\">\n",
       "      <th></th>\n",
       "      <th>SalePrice</th>\n",
       "      <th>pred</th>\n",
       "      <th>pred_std</th>\n",
       "    </tr>\n",
       "    <tr>\n",
       "      <th>ProductSize</th>\n",
       "      <th></th>\n",
       "      <th></th>\n",
       "      <th></th>\n",
       "    </tr>\n",
       "  </thead>\n",
       "  <tbody>\n",
       "    <tr>\n",
       "      <th>Compact</th>\n",
       "      <td>9.735093</td>\n",
       "      <td>9.873523</td>\n",
       "      <td>0.384879</td>\n",
       "    </tr>\n",
       "    <tr>\n",
       "      <th>Large</th>\n",
       "      <td>10.470589</td>\n",
       "      <td>10.374297</td>\n",
       "      <td>0.365014</td>\n",
       "    </tr>\n",
       "    <tr>\n",
       "      <th>Large / Medium</th>\n",
       "      <td>10.691871</td>\n",
       "      <td>10.644506</td>\n",
       "      <td>0.307440</td>\n",
       "    </tr>\n",
       "    <tr>\n",
       "      <th>Medium</th>\n",
       "      <td>10.681511</td>\n",
       "      <td>10.623417</td>\n",
       "      <td>0.301228</td>\n",
       "    </tr>\n",
       "    <tr>\n",
       "      <th>Mini</th>\n",
       "      <td>9.535147</td>\n",
       "      <td>9.571541</td>\n",
       "      <td>0.271905</td>\n",
       "    </tr>\n",
       "    <tr>\n",
       "      <th>Small</th>\n",
       "      <td>10.324448</td>\n",
       "      <td>10.315921</td>\n",
       "      <td>0.329704</td>\n",
       "    </tr>\n",
       "  </tbody>\n",
       "</table>\n",
       "</div>"
      ],
      "text/plain": [
       "                SalePrice       pred  pred_std\n",
       "ProductSize                                   \n",
       "Compact          9.735093   9.873523  0.384879\n",
       "Large           10.470589  10.374297  0.365014\n",
       "Large / Medium  10.691871  10.644506  0.307440\n",
       "Medium          10.681511  10.623417  0.301228\n",
       "Mini             9.535147   9.571541  0.271905\n",
       "Small           10.324448  10.315921  0.329704"
      ]
     },
     "execution_count": 74,
     "metadata": {},
     "output_type": "execute_result"
    }
   ],
   "source": [
    "flds = ['ProductSize', 'SalePrice', 'pred', 'pred_std']\n",
    "summ = valid_copy[flds].groupby(flds[0]).mean()\n",
    "summ"
   ]
  },
  {
   "cell_type": "code",
   "execution_count": 75,
   "metadata": {},
   "outputs": [
    {
     "data": {
      "text/plain": [
       "ProductSize\n",
       "Compact           0.038981\n",
       "Large             0.035184\n",
       "Small             0.031961\n",
       "Large / Medium    0.028882\n",
       "Mini              0.028408\n",
       "Medium            0.028355\n",
       "dtype: float64"
      ]
     },
     "execution_count": 75,
     "metadata": {},
     "output_type": "execute_result"
    }
   ],
   "source": [
    "(summ.pred_std/summ.pred).sort_values(ascending=False)"
   ]
  },
  {
   "cell_type": "markdown",
   "metadata": {},
   "source": [
    "### Feature Importance\n",
    "- which columns matter\n",
    "- Data Leakage: having access to information during model development that you wouldn't have during actual decision making\n",
    "- look at top10 features and try to understand more deeply\n",
    "- removing reduntant cols might make predictions a little bit better, also removing colinearity (cols related to each other)\n",
    "- Feature Importance: take one col and randomly shuffle so it has no relationship to the dependent variable. Then run predictions on the trained model"
   ]
  },
  {
   "cell_type": "code",
   "execution_count": 76,
   "metadata": {},
   "outputs": [
    {
     "data": {
      "text/html": [
       "<div>\n",
       "<style scoped>\n",
       "    .dataframe tbody tr th:only-of-type {\n",
       "        vertical-align: middle;\n",
       "    }\n",
       "\n",
       "    .dataframe tbody tr th {\n",
       "        vertical-align: top;\n",
       "    }\n",
       "\n",
       "    .dataframe thead th {\n",
       "        text-align: right;\n",
       "    }\n",
       "</style>\n",
       "<table border=\"1\" class=\"dataframe\">\n",
       "  <thead>\n",
       "    <tr style=\"text-align: right;\">\n",
       "      <th></th>\n",
       "      <th>cols</th>\n",
       "      <th>imp</th>\n",
       "    </tr>\n",
       "  </thead>\n",
       "  <tbody>\n",
       "    <tr>\n",
       "      <th>5</th>\n",
       "      <td>YearMade</td>\n",
       "      <td>0.170674</td>\n",
       "    </tr>\n",
       "    <tr>\n",
       "      <th>37</th>\n",
       "      <td>Coupler_System</td>\n",
       "      <td>0.124255</td>\n",
       "    </tr>\n",
       "    <tr>\n",
       "      <th>13</th>\n",
       "      <td>ProductSize</td>\n",
       "      <td>0.111131</td>\n",
       "    </tr>\n",
       "    <tr>\n",
       "      <th>14</th>\n",
       "      <td>fiProductClassDesc</td>\n",
       "      <td>0.081297</td>\n",
       "    </tr>\n",
       "    <tr>\n",
       "      <th>2</th>\n",
       "      <td>ModelID</td>\n",
       "      <td>0.049992</td>\n",
       "    </tr>\n",
       "    <tr>\n",
       "      <th>63</th>\n",
       "      <td>saleElapsed</td>\n",
       "      <td>0.048256</td>\n",
       "    </tr>\n",
       "    <tr>\n",
       "      <th>10</th>\n",
       "      <td>fiSecondaryDesc</td>\n",
       "      <td>0.044159</td>\n",
       "    </tr>\n",
       "    <tr>\n",
       "      <th>38</th>\n",
       "      <td>Grouser_Tracks</td>\n",
       "      <td>0.042689</td>\n",
       "    </tr>\n",
       "    <tr>\n",
       "      <th>19</th>\n",
       "      <td>Enclosure</td>\n",
       "      <td>0.038755</td>\n",
       "    </tr>\n",
       "    <tr>\n",
       "      <th>9</th>\n",
       "      <td>fiBaseModel</td>\n",
       "      <td>0.028536</td>\n",
       "    </tr>\n",
       "  </tbody>\n",
       "</table>\n",
       "</div>"
      ],
      "text/plain": [
       "                  cols       imp\n",
       "5             YearMade  0.170674\n",
       "37      Coupler_System  0.124255\n",
       "13         ProductSize  0.111131\n",
       "14  fiProductClassDesc  0.081297\n",
       "2              ModelID  0.049992\n",
       "63         saleElapsed  0.048256\n",
       "10     fiSecondaryDesc  0.044159\n",
       "38      Grouser_Tracks  0.042689\n",
       "19           Enclosure  0.038755\n",
       "9          fiBaseModel  0.028536"
      ]
     },
     "execution_count": 76,
     "metadata": {},
     "output_type": "execute_result"
    }
   ],
   "source": [
    "fi = rf_feat_importance(m, df_trn); fi[:10]"
   ]
  },
  {
   "cell_type": "code",
   "execution_count": 77,
   "metadata": {},
   "outputs": [
    {
     "data": {
      "text/plain": [
       "<matplotlib.axes._subplots.AxesSubplot at 0x12f641da0>"
      ]
     },
     "execution_count": 77,
     "metadata": {},
     "output_type": "execute_result"
    },
    {
     "data": {
      "image/png": "[encoded data removed]",
      "text/plain": [
       "<Figure size 720x432 with 1 Axes>"
      ]
     },
     "metadata": {
      "needs_background": "light"
     },
     "output_type": "display_data"
    }
   ],
   "source": [
    "fi.plot('cols','imp',figsize=(10,6),legend=False)"
   ]
  },
  {
   "cell_type": "code",
   "execution_count": 78,
   "metadata": {},
   "outputs": [],
   "source": [
    "def plot_fi(fi): return fi.plot('cols', 'imp', 'barh', figsize=(12,7), legend=False)"
   ]
  },
  {
   "cell_type": "code",
   "execution_count": 79,
   "metadata": {},
   "outputs": [
    {
     "data": {
      "text/plain": [
       "<matplotlib.axes._subplots.AxesSubplot at 0x12f7df7b8>"
      ]
     },
     "execution_count": 79,
     "metadata": {},
     "output_type": "execute_result"
    },
    {
     "data": {
      "image/png": "[encoded data removed]",
      "text/plain": [
       "<Figure size 864x504 with 1 Axes>"
      ]
     },
     "metadata": {
      "needs_background": "light"
     },
     "output_type": "display_data"
    }
   ],
   "source": [
    "plot_fi(fi[:30])"
   ]
  },
  {
   "cell_type": "code",
   "execution_count": 80,
   "metadata": {},
   "outputs": [
    {
     "data": {
      "text/plain": [
       "23"
      ]
     },
     "execution_count": 80,
     "metadata": {},
     "output_type": "execute_result"
    }
   ],
   "source": [
    "to_keep = fi[fi.imp>0.005].cols; len(to_keep)"
   ]
  },
  {
   "cell_type": "code",
   "execution_count": 81,
   "metadata": {},
   "outputs": [],
   "source": [
    "df_keep = df_trn[to_keep].copy()\n",
    "X_train, X_valid = split_vals(df_keep, n_trn)"
   ]
  },
  {
   "cell_type": "code",
   "execution_count": 82,
   "metadata": {},
   "outputs": [
    {
     "name": "stdout",
     "output_type": "stream",
     "text": [
      "[0.22179200196560808, 0.25321495000156047, 0.8971920763342389, 0.8854944175124276]\n"
     ]
    }
   ],
   "source": [
    "m = RandomForestRegressor(n_estimators=40,min_samples_leaf=3,max_features=0.5,n_jobs=4)\n",
    "m.fit(X_train,y_train)\n",
    "print_score(m)"
   ]
  },
  {
   "cell_type": "code",
   "execution_count": 83,
   "metadata": {},
   "outputs": [
    {
     "data": {
      "image/png": "[encoded data removed]",
      "text/plain": [
       "<Figure size 864x504 with 1 Axes>"
      ]
     },
     "metadata": {
      "needs_background": "light"
     },
     "output_type": "display_data"
    }
   ],
   "source": [
    "fi = rf_feat_importance(m, df_keep)\n",
    "plot_fi(fi);"
   ]
  },
  {
   "cell_type": "code",
   "execution_count": null,
   "metadata": {},
   "outputs": [],
   "source": []
  }
 ],
 "metadata": {
  "kernelspec": {
   "display_name": "Python 3",
   "language": "python",
   "name": "python3"
  },
  "language_info": {
   "codemirror_mode": {
    "name": "ipython",
    "version": 3
   },
   "file_extension": ".py",
   "mimetype": "text/x-python",
   "name": "python",
   "nbconvert_exporter": "python",
   "pygments_lexer": "ipython3",
   "version": "3.6.8"
  }
 },
 "nbformat": 4,
 "nbformat_minor": 4
}
